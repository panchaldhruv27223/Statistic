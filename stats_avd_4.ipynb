{
 "cells": [
  {
   "cell_type": "code",
   "execution_count": null,
   "id": "7d68a966",
   "metadata": {},
   "outputs": [],
   "source": [
    "Q1: What are the Probability Mass Function (PMF) and Probability Density Function (PDF)? Explain with\n",
    "an example."
   ]
  },
  {
   "cell_type": "code",
   "execution_count": null,
   "id": "d251c595",
   "metadata": {},
   "outputs": [],
   "source": [
    "probability mass function and probability distribution function both are the type of probability distribution function \n",
    "\n",
    "probability mass function is used when we have discrite random variable.\n",
    "pmf function graph is not continuos.\n",
    "it has discrite value means it is \n",
    "\n",
    "probability density function is used when we have cotinuous random variable.\n",
    "pdf function have contiuous graph.\n",
    "it has continuous value.\n",
    "\n",
    "for example,\n",
    "\n",
    "if we roll dice the possible solution are ={1,2,3,4,5,6}\n",
    "possibility of occur 1 or 2 or 3 or 4 or 5 or 6 = 1/6\n",
    "here we get possibilit ofoccuring 1,2,3,4,5,6 if we try to find the possibility of 1.5 so it is 0\n",
    "it is a example of discrite random variable, if we drow the graph it is not continuous.\n",
    "\n",
    "\n",
    "now for continuous,\n",
    "\n",
    "suppose we want to find the cabon dioxcide produced by the car. then we get the probability of each point\n",
    "like 1,1.1,1.2,like this so this graph is continuous.\n",
    "suppose we want to find the height of the student in the collage.\n"
   ]
  },
  {
   "cell_type": "code",
   "execution_count": null,
   "id": "beb3a069",
   "metadata": {},
   "outputs": [],
   "source": [
    "Q2: What is Cumulative Density Function (CDF)? Explain with an example. Why CDF is used?"
   ]
  },
  {
   "cell_type": "code",
   "execution_count": null,
   "id": "66480cb9",
   "metadata": {},
   "outputs": [],
   "source": [
    "cumulative density function is the total probability density function up to a certain point x,\n",
    "it can be represented as the probability that the random variable X is less than or equal to x.\n",
    "it integrate upto some criteria X.\n",
    "\n",
    "# EX\n",
    "we want to find out the total number of the student, whom height is less than 6 fit.\n",
    "then we use cumulative function."
   ]
  },
  {
   "cell_type": "code",
   "execution_count": null,
   "id": "dba45cca",
   "metadata": {},
   "outputs": [],
   "source": [
    "Why we use:\n",
    "\n",
    "Probability Calculation: \n",
    "    CDF provides an efficient way to calculate the probability that a random variable falls within a certain range.\n",
    "    Instead of summing individual probabilities, we can use the CDF to directly obtain the probabilities for various intervals.\n",
    "\n",
    "Cumulative Information: \n",
    "    The CDF gives us a cumulative view of the distribution of a random variable.\n",
    "    It shows how the probabilities accumulate as we move from lower values to higher values, which can be useful in\n",
    "    understanding the overall behavior of the random variable.\n",
    "\n",
    "Quantile Calculation:\n",
    "    CDF is essential for finding quantiles (percentiles) of a distribution. \n",
    "    For example, the median corresponds to the value of x for which F(x) = 0.5, \n",
    "    and the 25th percentile corresponds to the value of x for which F(x) = 0.25.\n",
    "\n",
    "Comparing Distributions: \n",
    "    CDF allows us to compare different distributions and analyze their similarities and differences.\n",
    "    By plotting the CDFs of multiple distributions, we can gain insights into their relative probabilities at different values."
   ]
  },
  {
   "cell_type": "code",
   "execution_count": null,
   "id": "9f373107",
   "metadata": {},
   "outputs": [],
   "source": [
    "Q3: What are some examples of situations where the normal distribution might be used as a model?\n",
    "Explain how the parameters of the normal distribution relate to the shape of the distribution."
   ]
  },
  {
   "cell_type": "code",
   "execution_count": null,
   "id": "efe7dcfe",
   "metadata": {},
   "outputs": [],
   "source": [
    "Normal distribution means mean=mode=median so when our data fall in some specific region.\n",
    "height,weight of human follow the normal distribution. when our data is symmetrical destributed we use normal distribution\n",
    "as model.\n",
    "\n",
    "normal distribution graph is a bell curve. \n",
    "\n",
    "\n",
    "In the context of the normal distribution, there are two parameters that determine its shape: \n",
    "    the mean (μ) and the standard deviation (σ). The normal distribution is denoted as N(μ, σ), \n",
    "    where μ represents the mean and σ represents the standard deviation.\n",
    "\n",
    "1. Mean (μ):\n",
    "    The mean is a measure of central tendency and represents the average value of the data. \n",
    "    In the normal distribution, the mean is the point around which the data is centered, and \n",
    "    it also corresponds to the peak or highest point of the symmetric bell-shaped curve. \n",
    "    When the mean changes, the entire distribution shifts left or right along the x-axis. \n",
    "    If the mean increases, the distribution shifts to the right, and \n",
    "    if the mean decreases, the distribution shifts to the left.\n",
    "\n",
    "2. Standard Deviation (σ):\n",
    "    The standard deviation is a measure of dispersion or spread of the data points around the mean. \n",
    "    In the normal distribution, the standard deviation determines the width of the bell curve. \n",
    "    A smaller standard deviation results in a narrower and taller curve, while a larger standard deviation leads to\n",
    "    a wider and flatter curve. When the standard deviation increases, the data points tend to spread out more,\n",
    "    making the distribution more spread out.\n",
    "\n",
    "Together, the mean and standard deviation completely define the shape of the normal distribution. \n",
    "\n",
    "key observations:\n",
    "\n",
    "    - If μ is increased while keeping σ constant, the distribution shifts to the right.\n",
    "    - If μ is decreased while keeping σ constant, the distribution shifts to the left.\n",
    "    - If σ is increased while keeping μ constant, the distribution becomes wider and flatter.\n",
    "    - If σ is decreased while keeping μ constant, the distribution becomes narrower and taller.\n",
    "\n",
    "it is worth noting that the normal distribution is symmetric around the mean. This means that the probability of observing \n",
    "a value x units to the left of the mean is the same as observing a value x units to the right of the mean.\n",
    "\n",
    "the mean and standard deviation of the normal distribution play crucial roles in describing its shape, \n",
    "location, and variability. Understanding these parameters helps in interpreting and using the normal distribution effectively\n",
    "for various statistical analyses and modeling tasks."
   ]
  },
  {
   "cell_type": "code",
   "execution_count": null,
   "id": "03f3f1e6",
   "metadata": {},
   "outputs": [],
   "source": [
    "Q4: Explain the importance of Normal Distribution. Give a few real-life examples of Normal Distribution."
   ]
  },
  {
   "cell_type": "code",
   "execution_count": null,
   "id": "fb301e58",
   "metadata": {},
   "outputs": [],
   "source": [
    "Noraml distribution is very important because if our data is not normally distributed then we can not getting right inferance \n",
    "from the data, but if we have normally distributed then we can make conclusion very effecently.\n",
    "In a normal distribution, data is symmetrically distributed with no skew. When plotted on a graph, the data follows a bell \n",
    "shape, with most values clustering around a central region and tapering off as they go further away from the center.\n",
    "we can make decision easyly if we have normally distributed data.\n",
    "we can perform empirical rule on normal distribution.\n",
    "\n",
    "# EX:\n",
    "    -we can perform hypothesis testing if we have normal distributed data.\n",
    "    -if we want to research that medicin will work or not.\n",
    "    -if we want to cheack like the patient conditions he or she recover or not.\n",
    "    like this we can predict or we can make conclution from the normally distributed data.\n",
    "    "
   ]
  },
  {
   "cell_type": "code",
   "execution_count": null,
   "id": "242ae51a",
   "metadata": {},
   "outputs": [],
   "source": [
    "Q5: What is Bernaulli Distribution? Give an Example. What is the difference between Bernoulli\n",
    "Distribution and Binomial Distribution?"
   ]
  },
  {
   "cell_type": "code",
   "execution_count": null,
   "id": "453b637c",
   "metadata": {},
   "outputs": [],
   "source": [
    "Bernauli distribution  is a statestic method used when we have only two out comes.it work with discrete variable.\n",
    "so it use pmf function. in bernouli distribution the probability of success is p, then the probability of fail is \n",
    "q = 1 - p. here the number of experiment is only one. and the output of this experiment is like 0,1 or yes, no.\n",
    "\n",
    "# Ex:-\n",
    "tossing a coin \n",
    "if we take head as success then probability of fail is tail.\n",
    "probability of getting head is = 1/2 \n",
    "and the probability of not geeting head = 1- 1/2\n",
    "                                        = 1/2\n",
    "    \n",
    "\n",
    "binomial distributions outcome is also true false or 0,1 but here the number of experiment are n.\n",
    "if number of distribution is one then binomial distribution is bernouli distribution. the probability of success is p\n",
    "and probability of fail is q = 1-p. binomial also work with discrete random variable. it also use pmf function."
   ]
  },
  {
   "cell_type": "code",
   "execution_count": null,
   "id": "95bafa88",
   "metadata": {},
   "outputs": [],
   "source": [
    "Q6. Consider a dataset with a mean of 50 and a standard deviation of 10. If we assume that the dataset\n",
    "is normally distributed, what is the probability that a randomly selected observation will be greater\n",
    "than 60? Use the appropriate formula and show your calculations."
   ]
  },
  {
   "cell_type": "code",
   "execution_count": 32,
   "id": "169a65cb",
   "metadata": {
    "scrolled": true
   },
   "outputs": [
    {
     "name": "stdout",
     "output_type": "stream",
     "text": [
      "probability that randomly selected value is greater than 60 :  15.865525393145708\n"
     ]
    }
   ],
   "source": [
    "import scipy.stats as stat\n",
    "from scipy.stats import norm\n",
    "\n",
    "m = 50\n",
    "s = 10\n",
    "x = 60 \n",
    "\n",
    "# first we have to find z value\n",
    "\n",
    "# z = (x - mean)/standered_deviation\n",
    "\n",
    "z_score = (x-m)/s\n",
    "\n",
    "#  this is at 60 or below 60\n",
    "area_under_the_curv = norm.cdf(z_score)\n",
    "\n",
    "#  we want greater then 60 so\n",
    "area_uner_curv = 1-area_under_the_curv\n",
    "print(\"probability that randomly selected value is greater than 60 : \",area_uner_curv*100)"
   ]
  },
  {
   "cell_type": "code",
   "execution_count": null,
   "id": "dc544f29",
   "metadata": {},
   "outputs": [],
   "source": [
    "Q7: Explain uniform Distribution with an example."
   ]
  },
  {
   "cell_type": "code",
   "execution_count": null,
   "id": "d2de4d55",
   "metadata": {},
   "outputs": [],
   "source": [
    "uniform distribution is a come under symmetric distribution, it is a distribution where experiment outcome lies beteen an bound\n",
    "a and b where a = minimun and b = maximum value.\n",
    "in uniform distribution there are two type 1. continuous uniform distribution\n",
    "2. discrite uniform distribution.\n",
    "\n",
    "EX.\n",
    "if suppose we have a data about runnig time in min \n",
    "data = [5,6,7,8,9,0,1,2,3,4,5,6,22.5,11,22,21,20,14,17,19,3,5]\n",
    "\n",
    "so we can see lower value is 0 \n",
    "means a = 0\n",
    "and higher value means b = 23\n",
    "\n",
    "if some ask what is a probability between 5 to 20 \n",
    "\n",
    "p = (20-5)*(1/23-0)\n",
    "\n"
   ]
  },
  {
   "cell_type": "code",
   "execution_count": null,
   "id": "970daa31",
   "metadata": {},
   "outputs": [],
   "source": [
    "Q8: What is the z score? State the importance of the z score."
   ]
  },
  {
   "cell_type": "code",
   "execution_count": null,
   "id": "12a9b7d8",
   "metadata": {},
   "outputs": [],
   "source": [
    "Z-score is used in normal standared distribution, zscore tell us where is your data point.\n",
    "if z score is zero then our data point in at a center or we can say it is mean \n",
    "z score tell us how far you point to the mean. if z score is +1 means it is +1 to the mean or it is right side of mean \n",
    "if z score is -1 we can say it is left side of mean, it is -1 to the mean.\n",
    "we can use z score to find area under the curve.\n"
   ]
  },
  {
   "cell_type": "code",
   "execution_count": null,
   "id": "f5bdcd50",
   "metadata": {},
   "outputs": [],
   "source": [
    "Importance :\n",
    "    Understand where a data point fits into a distribution.\n",
    "    Compare observations between dissimilar variables.\n",
    "    Identify outliers\n",
    "    Calculate probabilities and percentiles using the standard normal distribution."
   ]
  },
  {
   "cell_type": "code",
   "execution_count": null,
   "id": "8d40e72a",
   "metadata": {},
   "outputs": [],
   "source": [
    "Q9: What is Central Limit Theorem? State the significance of the Central Limit Theorem."
   ]
  },
  {
   "cell_type": "code",
   "execution_count": null,
   "id": "9935d27e",
   "metadata": {},
   "outputs": [],
   "source": [
    "Central limit theorem say that the sampling distribution of mean will alwasy normally distributed, as long as \n",
    "the sample size is enough, regardless of whether the population has a normal, poission,binomial or any other distribution\n",
    "the sampling distribution of mean will be normal."
   ]
  },
  {
   "cell_type": "code",
   "execution_count": null,
   "id": "ea3dfe52",
   "metadata": {},
   "outputs": [],
   "source": [
    "If the distribution is not known or not normal, we consider the sample distribution to be normal according to CTL.\n",
    "As this method assume that the population given is normally distributed. \n",
    "This helps in analyzing data in methods like constructing confidence intervals.\n",
    "\n",
    "The CLT has several applications. Look at the places where you can use it.\n",
    "\n",
    "Political/election polling is a great example of how you can use CLT. \n",
    "These polls are used to estimate the number of people who support a specific candidate.\n",
    "You may have seen these results with confidence intervals on news channels. The CLT aids in this calculation.\n",
    "\n",
    "You use the CLT in various census fields to calculate various population details, such as family income, \n",
    "electricity consumption, individual salaries, and so on."
   ]
  },
  {
   "cell_type": "code",
   "execution_count": null,
   "id": "bd6952d9",
   "metadata": {},
   "outputs": [],
   "source": [
    "Q10: State the assumptions of the Central Limit Theorem."
   ]
  },
  {
   "cell_type": "code",
   "execution_count": null,
   "id": "b18858fa",
   "metadata": {},
   "outputs": [],
   "source": [
    "The data must adhere to the randomization rule. It needs to be sampled at random.\n",
    "The samples should be unrelated to one another. One sample should not impact the others.\n",
    "When taking samples without replacement, the sample size should not exceed 10% of the population.\n",
    "When the population is symmetric, a sample size of 30 is generally considered reasonable. \n",
    "if we have normal distribution then n can be any thing but if we do not have normal distribution then n must be a greater then\n",
    "30."
   ]
  }
 ],
 "metadata": {
  "kernelspec": {
   "display_name": "Python 3 (ipykernel)",
   "language": "python",
   "name": "python3"
  },
  "language_info": {
   "codemirror_mode": {
    "name": "ipython",
    "version": 3
   },
   "file_extension": ".py",
   "mimetype": "text/x-python",
   "name": "python",
   "nbconvert_exporter": "python",
   "pygments_lexer": "ipython3",
   "version": "3.9.7"
  }
 },
 "nbformat": 4,
 "nbformat_minor": 5
}
