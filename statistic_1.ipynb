{
 "cells": [
  {
   "cell_type": "code",
   "execution_count": null,
   "id": "2304c5da",
   "metadata": {},
   "outputs": [],
   "source": [
    "Q1. What is Statistics?\n"
   ]
  },
  {
   "cell_type": "code",
   "execution_count": null,
   "id": "afa40428",
   "metadata": {},
   "outputs": [],
   "source": [
    "Statistics is a branch of applied mathematics that involves the collection, description, analysis, and inference of conclusions\n",
    "from data."
   ]
  },
  {
   "cell_type": "code",
   "execution_count": null,
   "id": "78beca40",
   "metadata": {},
   "outputs": [],
   "source": [
    "Q2. Define the different types of statistics and give an example of when each type might be used.\n"
   ]
  },
  {
   "cell_type": "code",
   "execution_count": null,
   "id": "d3ef9b5a",
   "metadata": {},
   "outputs": [],
   "source": [
    "there are two type of statistics :\n",
    "    1. descriptive statistics\n",
    "    2. inferential statistics\n",
    "    \n",
    "1.descriptive statistics:\n",
    "    -central tedency:\n",
    "        -mean\n",
    "        -mode\n",
    "        -median\n",
    "    -measure of dispersion:\n",
    "        -variance\n",
    "        -dispersion(std)\n",
    "    -differnt type of distribution of data:\n",
    "        -histogram\n",
    "        -bar\n",
    "        -pdf\n",
    "        -pmf\n",
    "        \n",
    "2.inferential statistics:\n",
    "    -t-test\n",
    "    -anova test\n",
    "    -z-test\n",
    "    -f-test\n",
    "    -chi square test\n"
   ]
  },
  {
   "cell_type": "code",
   "execution_count": null,
   "id": "fdd81dc5",
   "metadata": {},
   "outputs": [],
   "source": [
    "descriptive statistics:\n",
    "    Descriptive statistics uses data that provides a description of the population either through numerical calculation or \n",
    "    graph or table. It provides a graphical summary of data. \n",
    "    It is simply used for summarizing and organizing data.\n",
    "    \n",
    "inferential statistics:\n",
    "    Inferential Statistics makes inference and prediction about population based on a sample of data taken from population.\n",
    "    It generalizes a large dataset and applies probabilities to draw a conclusion. \n",
    "    It is simply used for explaining meaning of descriptive stats. It is simply used to analyze, interpret result, and \n",
    "    draw conclusion."
   ]
  },
  {
   "cell_type": "code",
   "execution_count": 1,
   "id": "49946192",
   "metadata": {},
   "outputs": [
    {
     "name": "stdout",
     "output_type": "stream",
     "text": [
      "the avg result of 2023 : 74.5625\n"
     ]
    }
   ],
   "source": [
    "# Example of descriptive statistics:\n",
    "\n",
    "#Q. gtu wants to compute what is the average result in 2023\n",
    "\n",
    "marks = [80,90,78,67,89,0,66,88,99,55,73,67,78,98,96,69]\n",
    "import numpy as np\n",
    "mean = np.mean(marks)\n",
    "print(\"the avg result of 2023 :\" , mean)"
   ]
  },
  {
   "cell_type": "code",
   "execution_count": null,
   "id": "ffc0b7ea",
   "metadata": {},
   "outputs": [],
   "source": [
    "Example of inferential statistics:\n",
    "\n",
    "    if we want the avg hight of student of collage \n",
    "    then first we find the avg hight of one class student\n",
    "    and then from the sample result we can make inference for population data.\n",
    "    \n",
    "The main types of statistical inference are:\n",
    "\n",
    "    Estimation:\n",
    "        -one point estimate.\n",
    "        -confidence intervals(interval estimation).\n",
    "    Hypothesis testing:\n",
    "    in Hypothesis testing we can use: \n",
    "        -z-test\n",
    "        -student-t-distribution\n",
    "        -p-value\n",
    "        -f-test\n",
    "        -chi-square-test\n",
    "        -anova-test"
   ]
  },
  {
   "cell_type": "code",
   "execution_count": null,
   "id": "8de5babf",
   "metadata": {},
   "outputs": [],
   "source": [
    "Q3.  What are the different types of data and how do they differ from each other? Provide an example of \n",
    "each type of data."
   ]
  },
  {
   "cell_type": "code",
   "execution_count": null,
   "id": "b40ba13d",
   "metadata": {},
   "outputs": [],
   "source": [
    "two types of the data :\n",
    "    1.Qualatative data \n",
    "    2.Quantitative data\n",
    "    \n",
    "1.Quntative data(contitative data,Numerical Data):\n",
    "    -discrete data\n",
    "    -continuous data\n",
    "    \n",
    "2.Qualatative data(categorical data):\n",
    "    -ordinal data\n",
    "    -nominal data "
   ]
  },
  {
   "cell_type": "code",
   "execution_count": null,
   "id": "28f263c2",
   "metadata": {},
   "outputs": [],
   "source": [
    "1.Quntative data(contitative data,Numerical Data):\n",
    "    Quantitative data is also known as numerical data which represents the numerical value.\n",
    "    it show things like this how much, how often, how many.\n",
    "    Numerical data gives information about the quantities of a specific thing. \n",
    "    examples of numerical data:\n",
    "        -height, length, size, weight,...\n",
    "    \n",
    "    two type :\n",
    "        \n",
    "    -discrete data:\n",
    "        Countable and finite\n",
    "        Ordinal and integer data values\n",
    "        Counted on something as simple as a numberline\n",
    "        Nondivisible\n",
    "        Granularity:Less\n",
    "        Remains constant over a specific time interval\n",
    "        examples:The number of students, the number of children, the shoe size.\n",
    "            \n",
    "    -continuous data:\n",
    "        Any measured value within a specific range\n",
    "        Quantitative data points such as fractions, decimal numbers, and percentages\n",
    "        Measured using in-depth measurement tools and methods like curves and skews\n",
    "        Subdivisible\n",
    "        Granularity:More\n",
    "        Varies over time and can have separate values at any given point\n",
    "        Example : Height, weight, length, time, temperature, age, etc.\n"
   ]
  },
  {
   "cell_type": "code",
   "execution_count": null,
   "id": "e721ead6",
   "metadata": {},
   "outputs": [],
   "source": [
    "Q4. Categorise the following datasets with respect to quantitative and qualitative data types:\n",
    "\n",
    "    \n",
    "\n",
    "(i)Grading in exam: A+, A, B+, B, C+, C, D, E\n",
    "\n",
    "(ii)Colour of mangoes: yellow, green, orange, red\n",
    "\n",
    "(iii)Height data of a class: [178.9, 179, 179.5, 176, 177.2, 178.3, 175.8,...]\n",
    "\n",
    "(iv)Number of mangoes exported by a farm: [500, 600, 478, 672, …]"
   ]
  },
  {
   "cell_type": "code",
   "execution_count": null,
   "id": "4d2b493d",
   "metadata": {},
   "outputs": [],
   "source": [
    "quantitative: {Height data of a class, Number of mangoes exported by a farm}\n",
    "    continuous : Height data of a class.\n",
    "    discrete : Number of mangoes exported by a farm"
   ]
  },
  {
   "cell_type": "code",
   "execution_count": null,
   "id": "f5e687c7",
   "metadata": {},
   "outputs": [],
   "source": [
    "qualitative: {Grading in exam, Colour of mangoes}\n",
    "    \n",
    "    ordinal : Grading in exam\n",
    "    nominal : Colour of mangoes"
   ]
  },
  {
   "cell_type": "code",
   "execution_count": null,
   "id": "13193521",
   "metadata": {},
   "outputs": [],
   "source": [
    "Q5. Explain the concept of levels of measurement and give an example of a variable for each level.\n"
   ]
  },
  {
   "cell_type": "code",
   "execution_count": null,
   "id": "4e5ec230",
   "metadata": {},
   "outputs": [],
   "source": [
    "Levels of measurement, also called scales of measurement, tell you how precisely variables are recorded\n",
    "there are four levels of measurement :\n",
    "    1.nominal \n",
    "    2.ordinal\n",
    "    3.interval\n",
    "    4.ratio\n",
    "    \n",
    "1.Nominal:\n",
    "    Nominal variables can be placed into categories.\n",
    "    These also have no order, and nominal scale of measurement only satisfies the identity property of measurement.\n",
    "    Categories (qualitative data) without any order.\n",
    "\n",
    "    Examples:\n",
    "        Brand names\n",
    "        Countries\n",
    "        Colors\n",
    "        \n",
    "2.ordinal:\n",
    "    The ordinal scale contains things that you can place in order. \n",
    "    It measures a variable in terms of magnitude, or rank. \n",
    "    Ordinal scales tell us relative order, but give us no information regarding differences between the categories.\n",
    "    \n",
    "    Example:\n",
    "        Grade of student\n",
    "        militray rank\n",
    "        \n",
    "3.interval:\n",
    "    Data that can be ordered and the distance between them is objectively meaningful.\n",
    "    But there is no natural 0-value where the scale originates.\n",
    "    \n",
    "    Note: Interval scales are usually invented by people, like degrees of temperature.\n",
    "    0 degrees Celsius is 32 degrees of Fahrenheit. \n",
    "    There is consistent distances between each degree (for every 1 extra degree of Celsius, there is 1.8 extra Fahrenheit), \n",
    "    but they do not agree on where 0 degrees is.\n",
    "    \n",
    "    Examples:\n",
    "        Years in a calendar\n",
    "        Temperature measured in Fahrenheit\n",
    "\n",
    "4.ratio:\n",
    "    Data that can be ordered and there is a consistent and meaningful distance between them. \n",
    "    And it also has a natural 0-value.\n",
    "\n",
    "    Examples:\n",
    "        Money\n",
    "        Age\n",
    "        Time\n",
    "        length"
   ]
  },
  {
   "cell_type": "code",
   "execution_count": null,
   "id": "e6be360b",
   "metadata": {},
   "outputs": [],
   "source": [
    "Q6. Why is it important to understand the level of measurement when analyzing data? Provide an \n",
    "example to illustrate your answer."
   ]
  },
  {
   "cell_type": "code",
   "execution_count": null,
   "id": "4873d891",
   "metadata": {},
   "outputs": [],
   "source": [
    "Understanding the level of measurement is crucial when analyzing data because it determines the appropriate statistical methods \n",
    "and techniques that can be applied to the data. The level of measurement, also known as the scale of measurement, \n",
    "refers to the nature and characteristics of the data being collected or analyzed.\n",
    "\n",
    "\n",
    "ex :if we want to perform an opration then the first thing that neccesary to know about the tyep of data.\n",
    "    suppose we want to find the mean value of an attribute(data). but our data is nominal\n",
    "    the we can not find the, mean value. we have to perform hypothesis testing to infer the ans.\n",
    "    data = {\"blue\",\"red\",\"yellow\"}\n",
    "    then we can not find the mean of data.\n",
    "    \n",
    "so to understand what things can be done. how to make some conclusion or any opration perform on data first of all we have to \n",
    "know what type of data, whats relation between data."
   ]
  },
  {
   "attachments": {
    "image.png": {
     "image/png": "[encoded data removed]"
    }
   },
   "cell_type": "markdown",
   "id": "fbb6363d",
   "metadata": {},
   "source": [
    "![image.png](attachment:image.png)"
   ]
  },
  {
   "cell_type": "code",
   "execution_count": null,
   "id": "c7d4d337",
   "metadata": {},
   "outputs": [],
   "source": [
    "Q7. How nominal data type is different from ordinal data type.\n"
   ]
  },
  {
   "cell_type": "code",
   "execution_count": null,
   "id": "9bcf203e",
   "metadata": {},
   "outputs": [],
   "source": [
    "Both ordinal and nominal is a type of qualitative data.\n",
    "\n",
    "nominal:\n",
    "    nominal is catogorical data menas it contain like hair_color , eye_color.\n",
    "    there is no order beteen th data value.\n",
    "    \n",
    "ordinal:\n",
    "    ordinal is a type of data where data values have some meaning full order.\n",
    "    like Rank in any exam\n",
    "    \n",
    "nominal and ordinal data main differance is that nominal has no order\n",
    "ordinal have meaning full order."
   ]
  },
  {
   "cell_type": "code",
   "execution_count": null,
   "id": "9d3a4da4",
   "metadata": {},
   "outputs": [],
   "source": [
    "Q8. Which type of plot can be used to display data in terms of range?\n"
   ]
  },
  {
   "cell_type": "code",
   "execution_count": null,
   "id": "311bef1b",
   "metadata": {},
   "outputs": [],
   "source": [
    "for range:\n",
    "    -we can use Line plot which has minmum and maximum.\n",
    "    -we can use boxplot to show range\n",
    "    -violin plot"
   ]
  },
  {
   "cell_type": "code",
   "execution_count": null,
   "id": "4da8f7a1",
   "metadata": {},
   "outputs": [],
   "source": [
    "Q9. Describe the difference between descriptive and inferential statistics. Give an example of each \n",
    "type of statistics and explain how they are used."
   ]
  },
  {
   "cell_type": "code",
   "execution_count": null,
   "id": "76c0727c",
   "metadata": {},
   "outputs": [],
   "source": [
    "there are two type of statistics :\n",
    "    1. descriptive statistics\n",
    "    2. inferential statistics\n",
    "    \n",
    "1.descriptive statistics:\n",
    "    -central tedency:\n",
    "        -mean\n",
    "        -mode\n",
    "        -median\n",
    "    -measure of dispersion:\n",
    "        -variance\n",
    "        -dispersion(std)\n",
    "    -differnt type of distribution of data:\n",
    "        -histogram\n",
    "        -bar\n",
    "        -pdf\n",
    "        -pmf\n",
    "        \n",
    "2.inferential statistics:\n",
    "    -t-test\n",
    "    -anova test\n",
    "    -z-test\n",
    "    -f-test\n",
    "    -chi square test\n",
    "\n",
    "    \n",
    "descriptive statistics:\n",
    "    Descriptive statistics uses data that provides a description of the population either through numerical calculation or \n",
    "    graph or table. It provides a graphical summary of data. \n",
    "    It is simply used for summarizing and organizing data.\n",
    "    \n",
    "inferential statistics:\n",
    "    Inferential Statistics makes inference and prediction about population based on a sample of data taken from population.\n",
    "    It generalizes a large dataset and applies probabilities to draw a conclusion. \n",
    "    It is simply used for explaining meaning of descriptive stats. It is simply used to analyze, interpret result, and \n",
    "    draw conclusion. "
   ]
  },
  {
   "cell_type": "code",
   "execution_count": null,
   "id": "cdc5a78e",
   "metadata": {},
   "outputs": [],
   "source": [
    "# Example of descriptive statistics:\n",
    "\n",
    "#Q. gtu wants to compute what is the average result in 2023\n",
    "\n",
    "marks = [80,90,78,67,89,0,66,88,99,55,73,67,78,98,96,69]\n",
    "import numpy as np\n",
    "mean = np.mean(marks)\n",
    "print(\"the avg result of 2023 :\" , mean)\n",
    "\n",
    "\n",
    "here we use discriptive statistics because we want to compute the average marks of the result 2023\n",
    "we can say we perform summarizing the data. by finding mean we can say that whom get score greater then \n",
    "average\n"
   ]
  },
  {
   "cell_type": "code",
   "execution_count": null,
   "id": "e01c5ed9",
   "metadata": {},
   "outputs": [],
   "source": [
    "Example of inferential statistics:\n",
    "\n",
    "    if we want the avg hight of student of collage \n",
    "    then first we find the avg hight of one class student\n",
    "    and then from the sample result we can make inference for population data.\n",
    "    \n",
    "The main types of statistical inference are:\n",
    "\n",
    "    Estimation:\n",
    "        -one point estimate.\n",
    "        -confidence intervals(interval estimation).\n",
    "    Hypothesis testing:\n",
    "    in Hypothesis testing we can use: \n",
    "        -z-test\n",
    "        -student-t-distribution\n",
    "        -p-value\n",
    "        -f-test\n",
    "        -chi-square-test\n",
    "        -anova-test"
   ]
  },
  {
   "cell_type": "code",
   "execution_count": null,
   "id": "ad4b08ea",
   "metadata": {},
   "outputs": [],
   "source": [
    "Q10. What are some common measures of central tendency and variability used in statistics? Explain \n",
    "how each measure can be used to describe a dataset."
   ]
  },
  {
   "cell_type": "code",
   "execution_count": null,
   "id": "30e58448",
   "metadata": {},
   "outputs": [],
   "source": [
    "central tendency :\n",
    "    we can measure central tendency by mean, median, mode\n",
    "variability :\n",
    "    variability can be measured by variance, standard deviation, range, inter-quartail-range\n",
    "    \n",
    "#  ex:"
   ]
  },
  {
   "cell_type": "code",
   "execution_count": 2,
   "id": "a47f2bc8",
   "metadata": {},
   "outputs": [],
   "source": [
    "import numpy as np \n",
    "import pandas as pd\n",
    "import seaborn as sns "
   ]
  },
  {
   "cell_type": "code",
   "execution_count": 3,
   "id": "f2a7139e",
   "metadata": {},
   "outputs": [],
   "source": [
    "df = sns.load_dataset(\"titanic\")"
   ]
  },
  {
   "cell_type": "code",
   "execution_count": 7,
   "id": "c3a26777",
   "metadata": {},
   "outputs": [
    {
     "data": {
      "text/html": [
       "<div>\n",
       "<style scoped>\n",
       "    .dataframe tbody tr th:only-of-type {\n",
       "        vertical-align: middle;\n",
       "    }\n",
       "\n",
       "    .dataframe tbody tr th {\n",
       "        vertical-align: top;\n",
       "    }\n",
       "\n",
       "    .dataframe thead th {\n",
       "        text-align: right;\n",
       "    }\n",
       "</style>\n",
       "<table border=\"1\" class=\"dataframe\">\n",
       "  <thead>\n",
       "    <tr style=\"text-align: right;\">\n",
       "      <th></th>\n",
       "      <th>survived</th>\n",
       "      <th>pclass</th>\n",
       "      <th>sex</th>\n",
       "      <th>age</th>\n",
       "      <th>sibsp</th>\n",
       "      <th>parch</th>\n",
       "      <th>fare</th>\n",
       "      <th>embarked</th>\n",
       "      <th>class</th>\n",
       "      <th>who</th>\n",
       "      <th>adult_male</th>\n",
       "      <th>deck</th>\n",
       "      <th>embark_town</th>\n",
       "      <th>alive</th>\n",
       "      <th>alone</th>\n",
       "    </tr>\n",
       "  </thead>\n",
       "  <tbody>\n",
       "    <tr>\n",
       "      <th>0</th>\n",
       "      <td>0</td>\n",
       "      <td>3</td>\n",
       "      <td>male</td>\n",
       "      <td>22.0</td>\n",
       "      <td>1</td>\n",
       "      <td>0</td>\n",
       "      <td>7.2500</td>\n",
       "      <td>S</td>\n",
       "      <td>Third</td>\n",
       "      <td>man</td>\n",
       "      <td>True</td>\n",
       "      <td>NaN</td>\n",
       "      <td>Southampton</td>\n",
       "      <td>no</td>\n",
       "      <td>False</td>\n",
       "    </tr>\n",
       "    <tr>\n",
       "      <th>1</th>\n",
       "      <td>1</td>\n",
       "      <td>1</td>\n",
       "      <td>female</td>\n",
       "      <td>38.0</td>\n",
       "      <td>1</td>\n",
       "      <td>0</td>\n",
       "      <td>71.2833</td>\n",
       "      <td>C</td>\n",
       "      <td>First</td>\n",
       "      <td>woman</td>\n",
       "      <td>False</td>\n",
       "      <td>C</td>\n",
       "      <td>Cherbourg</td>\n",
       "      <td>yes</td>\n",
       "      <td>False</td>\n",
       "    </tr>\n",
       "    <tr>\n",
       "      <th>2</th>\n",
       "      <td>1</td>\n",
       "      <td>3</td>\n",
       "      <td>female</td>\n",
       "      <td>26.0</td>\n",
       "      <td>0</td>\n",
       "      <td>0</td>\n",
       "      <td>7.9250</td>\n",
       "      <td>S</td>\n",
       "      <td>Third</td>\n",
       "      <td>woman</td>\n",
       "      <td>False</td>\n",
       "      <td>NaN</td>\n",
       "      <td>Southampton</td>\n",
       "      <td>yes</td>\n",
       "      <td>True</td>\n",
       "    </tr>\n",
       "    <tr>\n",
       "      <th>3</th>\n",
       "      <td>1</td>\n",
       "      <td>1</td>\n",
       "      <td>female</td>\n",
       "      <td>35.0</td>\n",
       "      <td>1</td>\n",
       "      <td>0</td>\n",
       "      <td>53.1000</td>\n",
       "      <td>S</td>\n",
       "      <td>First</td>\n",
       "      <td>woman</td>\n",
       "      <td>False</td>\n",
       "      <td>C</td>\n",
       "      <td>Southampton</td>\n",
       "      <td>yes</td>\n",
       "      <td>False</td>\n",
       "    </tr>\n",
       "    <tr>\n",
       "      <th>4</th>\n",
       "      <td>0</td>\n",
       "      <td>3</td>\n",
       "      <td>male</td>\n",
       "      <td>35.0</td>\n",
       "      <td>0</td>\n",
       "      <td>0</td>\n",
       "      <td>8.0500</td>\n",
       "      <td>S</td>\n",
       "      <td>Third</td>\n",
       "      <td>man</td>\n",
       "      <td>True</td>\n",
       "      <td>NaN</td>\n",
       "      <td>Southampton</td>\n",
       "      <td>no</td>\n",
       "      <td>True</td>\n",
       "    </tr>\n",
       "    <tr>\n",
       "      <th>...</th>\n",
       "      <td>...</td>\n",
       "      <td>...</td>\n",
       "      <td>...</td>\n",
       "      <td>...</td>\n",
       "      <td>...</td>\n",
       "      <td>...</td>\n",
       "      <td>...</td>\n",
       "      <td>...</td>\n",
       "      <td>...</td>\n",
       "      <td>...</td>\n",
       "      <td>...</td>\n",
       "      <td>...</td>\n",
       "      <td>...</td>\n",
       "      <td>...</td>\n",
       "      <td>...</td>\n",
       "    </tr>\n",
       "    <tr>\n",
       "      <th>886</th>\n",
       "      <td>0</td>\n",
       "      <td>2</td>\n",
       "      <td>male</td>\n",
       "      <td>27.0</td>\n",
       "      <td>0</td>\n",
       "      <td>0</td>\n",
       "      <td>13.0000</td>\n",
       "      <td>S</td>\n",
       "      <td>Second</td>\n",
       "      <td>man</td>\n",
       "      <td>True</td>\n",
       "      <td>NaN</td>\n",
       "      <td>Southampton</td>\n",
       "      <td>no</td>\n",
       "      <td>True</td>\n",
       "    </tr>\n",
       "    <tr>\n",
       "      <th>887</th>\n",
       "      <td>1</td>\n",
       "      <td>1</td>\n",
       "      <td>female</td>\n",
       "      <td>19.0</td>\n",
       "      <td>0</td>\n",
       "      <td>0</td>\n",
       "      <td>30.0000</td>\n",
       "      <td>S</td>\n",
       "      <td>First</td>\n",
       "      <td>woman</td>\n",
       "      <td>False</td>\n",
       "      <td>B</td>\n",
       "      <td>Southampton</td>\n",
       "      <td>yes</td>\n",
       "      <td>True</td>\n",
       "    </tr>\n",
       "    <tr>\n",
       "      <th>888</th>\n",
       "      <td>0</td>\n",
       "      <td>3</td>\n",
       "      <td>female</td>\n",
       "      <td>NaN</td>\n",
       "      <td>1</td>\n",
       "      <td>2</td>\n",
       "      <td>23.4500</td>\n",
       "      <td>S</td>\n",
       "      <td>Third</td>\n",
       "      <td>woman</td>\n",
       "      <td>False</td>\n",
       "      <td>NaN</td>\n",
       "      <td>Southampton</td>\n",
       "      <td>no</td>\n",
       "      <td>False</td>\n",
       "    </tr>\n",
       "    <tr>\n",
       "      <th>889</th>\n",
       "      <td>1</td>\n",
       "      <td>1</td>\n",
       "      <td>male</td>\n",
       "      <td>26.0</td>\n",
       "      <td>0</td>\n",
       "      <td>0</td>\n",
       "      <td>30.0000</td>\n",
       "      <td>C</td>\n",
       "      <td>First</td>\n",
       "      <td>man</td>\n",
       "      <td>True</td>\n",
       "      <td>C</td>\n",
       "      <td>Cherbourg</td>\n",
       "      <td>yes</td>\n",
       "      <td>True</td>\n",
       "    </tr>\n",
       "    <tr>\n",
       "      <th>890</th>\n",
       "      <td>0</td>\n",
       "      <td>3</td>\n",
       "      <td>male</td>\n",
       "      <td>32.0</td>\n",
       "      <td>0</td>\n",
       "      <td>0</td>\n",
       "      <td>7.7500</td>\n",
       "      <td>Q</td>\n",
       "      <td>Third</td>\n",
       "      <td>man</td>\n",
       "      <td>True</td>\n",
       "      <td>NaN</td>\n",
       "      <td>Queenstown</td>\n",
       "      <td>no</td>\n",
       "      <td>True</td>\n",
       "    </tr>\n",
       "  </tbody>\n",
       "</table>\n",
       "<p>891 rows × 15 columns</p>\n",
       "</div>"
      ],
      "text/plain": [
       "     survived  pclass     sex   age  sibsp  parch     fare embarked   class  \\\n",
       "0           0       3    male  22.0      1      0   7.2500        S   Third   \n",
       "1           1       1  female  38.0      1      0  71.2833        C   First   \n",
       "2           1       3  female  26.0      0      0   7.9250        S   Third   \n",
       "3           1       1  female  35.0      1      0  53.1000        S   First   \n",
       "4           0       3    male  35.0      0      0   8.0500        S   Third   \n",
       "..        ...     ...     ...   ...    ...    ...      ...      ...     ...   \n",
       "886         0       2    male  27.0      0      0  13.0000        S  Second   \n",
       "887         1       1  female  19.0      0      0  30.0000        S   First   \n",
       "888         0       3  female   NaN      1      2  23.4500        S   Third   \n",
       "889         1       1    male  26.0      0      0  30.0000        C   First   \n",
       "890         0       3    male  32.0      0      0   7.7500        Q   Third   \n",
       "\n",
       "       who  adult_male deck  embark_town alive  alone  \n",
       "0      man        True  NaN  Southampton    no  False  \n",
       "1    woman       False    C    Cherbourg   yes  False  \n",
       "2    woman       False  NaN  Southampton   yes   True  \n",
       "3    woman       False    C  Southampton   yes  False  \n",
       "4      man        True  NaN  Southampton    no   True  \n",
       "..     ...         ...  ...          ...   ...    ...  \n",
       "886    man        True  NaN  Southampton    no   True  \n",
       "887  woman       False    B  Southampton   yes   True  \n",
       "888  woman       False  NaN  Southampton    no  False  \n",
       "889    man        True    C    Cherbourg   yes   True  \n",
       "890    man        True  NaN   Queenstown    no   True  \n",
       "\n",
       "[891 rows x 15 columns]"
      ]
     },
     "execution_count": 7,
     "metadata": {},
     "output_type": "execute_result"
    }
   ],
   "source": [
    "df"
   ]
  },
  {
   "cell_type": "code",
   "execution_count": 8,
   "id": "6a4589e3",
   "metadata": {},
   "outputs": [
    {
     "name": "stdout",
     "output_type": "stream",
     "text": [
      "the average fair is : 32.204207968574636\n"
     ]
    }
   ],
   "source": [
    "# want to compute average fair \n",
    "average = np.mean(df[\"fare\"])\n",
    "print(\"the average fair is :\",average)"
   ]
  },
  {
   "cell_type": "code",
   "execution_count": 37,
   "id": "3caa77d2",
   "metadata": {},
   "outputs": [],
   "source": [
    "cat = pd.Categorical(df[\"alone\"])"
   ]
  },
  {
   "cell_type": "code",
   "execution_count": 39,
   "id": "024e6210",
   "metadata": {},
   "outputs": [
    {
     "data": {
      "text/plain": [
       "False    354\n",
       "True     537\n",
       "dtype: int64"
      ]
     },
     "execution_count": 39,
     "metadata": {},
     "output_type": "execute_result"
    }
   ],
   "source": [
    "cat.value_counts()"
   ]
  },
  {
   "cell_type": "code",
   "execution_count": null,
   "id": "db6a33c9",
   "metadata": {},
   "outputs": [],
   "source": [
    "# find mode \n",
    "so we can say mode : is True for df[\"alone\"]\n",
    "because we can see True frequency is greater then False frequency\n"
   ]
  },
  {
   "cell_type": "code",
   "execution_count": 44,
   "id": "e23ae657",
   "metadata": {},
   "outputs": [
    {
     "name": "stdout",
     "output_type": "stream",
     "text": [
      "28.0\n"
     ]
    }
   ],
   "source": [
    "#  find median\n",
    "\n",
    "median = df[\"age\"].median()\n",
    "print(median) "
   ]
  },
  {
   "cell_type": "code",
   "execution_count": 53,
   "id": "d4cf8913",
   "metadata": {},
   "outputs": [
    {
     "data": {
      "text/plain": [
       "2469.436845743116"
      ]
     },
     "execution_count": 53,
     "metadata": {},
     "output_type": "execute_result"
    }
   ],
   "source": [
    "#  we can find variance \n",
    "\n",
    "df[\"fare\"].var()"
   ]
  },
  {
   "cell_type": "code",
   "execution_count": 54,
   "id": "6b9e62a8",
   "metadata": {},
   "outputs": [
    {
     "data": {
      "text/plain": [
       "49.6934285971809"
      ]
     },
     "execution_count": 54,
     "metadata": {},
     "output_type": "execute_result"
    }
   ],
   "source": [
    "#  we can also find standard deviation\n",
    "df[\"fare\"].std()"
   ]
  },
  {
   "cell_type": "code",
   "execution_count": 56,
   "id": "039c7ae3",
   "metadata": {},
   "outputs": [
    {
     "data": {
      "text/plain": [
       "512.3292"
      ]
     },
     "execution_count": 56,
     "metadata": {},
     "output_type": "execute_result"
    }
   ],
   "source": [
    "# for range \n",
    "range = df[\"fare\"].max() - df[\"fare\"].min()\n",
    "range"
   ]
  },
  {
   "cell_type": "markdown",
   "id": "56c7d822",
   "metadata": {},
   "source": [
    "using this value we can determine what is a range of our data,how spread out our data, we can detect any outliers in the data,\n",
    "by using this technique we can lots of things can deternime."
   ]
  }
 ],
 "metadata": {
  "kernelspec": {
   "display_name": "Python 3 (ipykernel)",
   "language": "python",
   "name": "python3"
  },
  "language_info": {
   "codemirror_mode": {
    "name": "ipython",
    "version": 3
   },
   "file_extension": ".py",
   "mimetype": "text/x-python",
   "name": "python",
   "nbconvert_exporter": "python",
   "pygments_lexer": "ipython3",
   "version": "3.9.7"
  }
 },
 "nbformat": 4,
 "nbformat_minor": 5
}
