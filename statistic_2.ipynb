{
 "cells": [
  {
   "cell_type": "code",
   "execution_count": 33,
   "id": "eb13aa46",
   "metadata": {},
   "outputs": [],
   "source": [
    "import numpy as np \n",
    "import scipy.stats as stat\n",
    "import pandas as pd"
   ]
  },
  {
   "cell_type": "code",
   "execution_count": null,
   "id": "4b8ee9b7",
   "metadata": {},
   "outputs": [],
   "source": [
    "Q1. What are the three measures of central tendency?"
   ]
  },
  {
   "cell_type": "code",
   "execution_count": null,
   "id": "336493a7",
   "metadata": {},
   "outputs": [],
   "source": [
    "central tendency:\n",
    "    -mean\n",
    "    -mode\n",
    "    -median "
   ]
  },
  {
   "cell_type": "code",
   "execution_count": 11,
   "id": "1e7a1bc6",
   "metadata": {},
   "outputs": [
    {
     "name": "stdout",
     "output_type": "stream",
     "text": [
      "56.63636363636363 57.0 ModeResult(mode=array([54]), count=array([3]))\n"
     ]
    }
   ],
   "source": [
    "data = [54, 54, 54, 55, 56, 57, 57, 58, 58, 60, 60]\n",
    "mean = np.mean(data)\n",
    "median = np.median(data)\n",
    "mode = stat.mode(data , keepdims=True)\n",
    "print(mean,median,mode)"
   ]
  },
  {
   "cell_type": "code",
   "execution_count": null,
   "id": "4ba1025e",
   "metadata": {},
   "outputs": [],
   "source": [
    "Q2. What is the difference between the mean, median, and mode? How are they used to measure the\n",
    "central tendency of a dataset?"
   ]
  },
  {
   "cell_type": "code",
   "execution_count": null,
   "id": "f9b994d1",
   "metadata": {},
   "outputs": [],
   "source": [
    "mean = it is an average. it sum all the data and divide by total number of data.\n",
    "        mean is used for numeric.mean is more sensitive to the outliers\n",
    "        when we have symmetric distribution then we use mean as central tendency\n",
    "\n",
    "median = it is a middle value in the data. it divide all the data into the two portion. if we have odd number of data \n",
    "         then middle value is our median.\n",
    "         median is less sensitive then mean to the ourliers.\n",
    "         it is also used for numeric value.\n",
    "         we use median as central tendency when we don't have symmetric distribution.\n",
    "        \n",
    "mode = it show the frequancy of data point in data.\n",
    "        mode is used for both numeric as well as catogorical data.\n",
    "    "
   ]
  },
  {
   "cell_type": "code",
   "execution_count": 12,
   "id": "5fcec339",
   "metadata": {},
   "outputs": [
    {
     "name": "stdout",
     "output_type": "stream",
     "text": [
      "56.63636363636363 57.0 ModeResult(mode=array([54]), count=array([3]))\n"
     ]
    }
   ],
   "source": [
    "data = [54, 54, 54, 55, 56, 57, 57, 58, 58, 60, 60]\n",
    "mean = np.mean(data)\n",
    "median = np.median(data)\n",
    "mode = stat.mode(data , keepdims=True)\n",
    "print(mean,median,mode)"
   ]
  },
  {
   "cell_type": "code",
   "execution_count": null,
   "id": "87b93ecb",
   "metadata": {},
   "outputs": [],
   "source": [
    "Q3. Measure the three measures of central tendency for the given height data:\n",
    "\n",
    " [178,177,176,177,178.2,178,175,179,180,175,178.9,176.2,177,172.5,178,176.5]\n"
   ]
  },
  {
   "cell_type": "code",
   "execution_count": 72,
   "id": "d8eba76d",
   "metadata": {
    "scrolled": true
   },
   "outputs": [
    {
     "name": "stdout",
     "output_type": "stream",
     "text": [
      "177.01875 \n",
      " 177.0 \n",
      " [177.]\n"
     ]
    }
   ],
   "source": [
    "data =[178,177,176,177,178.2,178,175,179,180,175,178.9,176.2,177,172.5,178,176.5]\n",
    "mean = np.mean(data)\n",
    "median = np.median(data)\n",
    "mode = stat.mode(data , keepdims=True)\n",
    "print(mean,\"\\n\",median,\"\\n\",mode[0])"
   ]
  },
  {
   "cell_type": "code",
   "execution_count": null,
   "id": "1db94121",
   "metadata": {},
   "outputs": [],
   "source": [
    "Q4. Find the standard deviation for the given data:\n",
    "\n",
    "[178,177,176,177,178.2,178,175,179,180,175,178.9,176.2,177,172.5,178,176.5]"
   ]
  },
  {
   "cell_type": "code",
   "execution_count": 3,
   "id": "166d22d3",
   "metadata": {},
   "outputs": [
    {
     "name": "stdout",
     "output_type": "stream",
     "text": [
      "1.7885814036548633\n"
     ]
    }
   ],
   "source": [
    "data = [178,177,176,177,178.2,178,175,179,180,175,178.9,176.2,177,172.5,178,176.5]\n",
    "std = np.std(data)\n",
    "print(std)"
   ]
  },
  {
   "cell_type": "code",
   "execution_count": null,
   "id": "07fb5333",
   "metadata": {},
   "outputs": [],
   "source": [
    "Q5. How are measures of dispersion such as range, variance, and standard deviation used to describe\n",
    "the spread of a dataset? Provide an example.\n"
   ]
  },
  {
   "cell_type": "code",
   "execution_count": 4,
   "id": "f34bf006",
   "metadata": {},
   "outputs": [
    {
     "data": {
      "text/plain": [
       "[178,\n",
       " 177,\n",
       " 176,\n",
       " 177,\n",
       " 178.2,\n",
       " 178,\n",
       " 175,\n",
       " 179,\n",
       " 180,\n",
       " 175,\n",
       " 178.9,\n",
       " 176.2,\n",
       " 177,\n",
       " 172.5,\n",
       " 178,\n",
       " 176.5]"
      ]
     },
     "execution_count": 4,
     "metadata": {},
     "output_type": "execute_result"
    }
   ],
   "source": [
    "data"
   ]
  },
  {
   "cell_type": "code",
   "execution_count": 6,
   "id": "3328b958",
   "metadata": {},
   "outputs": [
    {
     "name": "stdout",
     "output_type": "stream",
     "text": [
      "3.199023437500001 1.7885814036548633 7.5\n",
      "177.01875\n"
     ]
    }
   ],
   "source": [
    "variance = np.var(data)\n",
    "std = np.std(data)\n",
    "ran = np.max(data) - np.min(data)\n",
    "\n",
    "print(variance,std,ran)\n",
    "\n",
    "mean = np.mean(data)\n",
    "print(mean)"
   ]
  },
  {
   "cell_type": "code",
   "execution_count": null,
   "id": "0674bc40",
   "metadata": {},
   "outputs": [],
   "source": [
    "by this we can say that our data range is 7.5\n",
    "means if we see   177-3.  = 174\n",
    "and               177+3   = 180\n",
    "it is nothing but mean + - variance \n",
    "\n",
    "so by using this we can find how data is spread.\n",
    "in which range data is spread."
   ]
  },
  {
   "cell_type": "code",
   "execution_count": null,
   "id": "b396ab54",
   "metadata": {},
   "outputs": [],
   "source": [
    "Q6. What is a Venn diagram?"
   ]
  },
  {
   "cell_type": "code",
   "execution_count": null,
   "id": "e118bc0d",
   "metadata": {},
   "outputs": [],
   "source": [
    "A Venn diagram is a widely used diagram style that shows the logical relation between sets.\n",
    "A Venn diagram uses simple closed curves drawn on a plane to represent sets. Very often, these curves are circles or ellipses."
   ]
  },
  {
   "cell_type": "code",
   "execution_count": null,
   "id": "75e9101a",
   "metadata": {},
   "outputs": [],
   "source": [
    "Q7. For the two given sets A = (2,3,4,5,6,7) & B = (0,2,6,8,10). Find:\n",
    "\n",
    "(i) A and B\n",
    "\n",
    "(ii)A ⋃ B\n"
   ]
  },
  {
   "cell_type": "code",
   "execution_count": 8,
   "id": "baf40448",
   "metadata": {},
   "outputs": [
    {
     "name": "stdout",
     "output_type": "stream",
     "text": [
      "{0, 2, 3, 4, 5, 6, 7, 8, 10} {2, 6}\n"
     ]
    }
   ],
   "source": [
    "A = (2,3,4,5,6,7)\n",
    "B = (0,2,6,8,10)\n",
    "a = set(A) \n",
    "b = set(B)\n",
    "\n",
    "a_or_b = a.union(b)\n",
    "a_and_b = a.intersection(b)\n",
    "\n",
    "print(a_or_b,a_and_b)"
   ]
  },
  {
   "cell_type": "code",
   "execution_count": null,
   "id": "40213e5a",
   "metadata": {},
   "outputs": [],
   "source": [
    "Q8. What do you understand about skewness in data?\n"
   ]
  },
  {
   "cell_type": "code",
   "execution_count": null,
   "id": "a39566f2",
   "metadata": {},
   "outputs": [],
   "source": [
    "skewness is a measure of the asymmetry of the probability distribution of a real-valued random variable about its mean.\n",
    "zero ,positive and negative skew distribution.\n",
    "\n",
    "zero skew distribution:\n",
    "    when left part and right part of data are the same or mirror image.we can say it is a symmetric distribution.\n",
    "    in zero skew distribution : mean=mode=median\n",
    "positive skew distribution:\n",
    "    when pick is on left side and most of data are right side then we can say it is a right skeww distribution or positive skew\n",
    "    when it happend :\n",
    "        mode<median<mean\n",
    "negative skew distribution:\n",
    "    when pick is on right side and most of the data are on left side then we can say it is a left skew or negative skew data.\n",
    "    when it happend :\n",
    "        mean>median>mode\n",
    "        \n"
   ]
  },
  {
   "cell_type": "code",
   "execution_count": null,
   "id": "08359386",
   "metadata": {},
   "outputs": [],
   "source": [
    "Q9. If a data is right skewed then what will be the position of median with respect to mean?\n"
   ]
  },
  {
   "cell_type": "markdown",
   "id": "bdbe52c2",
   "metadata": {},
   "source": [
    "right skewned dataa :   mode<median<mean.\n",
    "\n",
    "y\n",
    "-\n",
    "-\n",
    "-\n",
    "-   \n",
    "-\n",
    "--------mode--median--mean----------------->x    \n",
    "median is less then mean and it is left side of mean. "
   ]
  },
  {
   "cell_type": "code",
   "execution_count": null,
   "id": "999424e0",
   "metadata": {},
   "outputs": [],
   "source": [
    "Q10. Explain the difference between covariance and correlation. How are these measures used in\n",
    "statistical analysis?"
   ]
  },
  {
   "cell_type": "code",
   "execution_count": null,
   "id": "f58f1c82",
   "metadata": {},
   "outputs": [],
   "source": [
    "covariance say how two variable are different. covariance have value between +infi to -infi\n",
    "here if the value is positive means both variable are positively related\n",
    "else we can say two variable is not related \n",
    "in covariance we can not say how closly they are related. means if we have 100 and 10 so on the basis of value we can not say \n",
    "100 value variable are more related then 10 values variable\n",
    "\n",
    "correlation says how two variable are related.it value is alwasy between -1 to 1.\n",
    "here we can say if the value is more towords to 1 then they are more related.\n",
    "if the value is more towords to -1 we can say they are more not related to each other.\n",
    "\n",
    "both technique are used for to cheack two variable is related or not. if we change in one variable then how it affect to \n",
    "other variable."
   ]
  },
  {
   "cell_type": "code",
   "execution_count": 34,
   "id": "c87aa84e",
   "metadata": {},
   "outputs": [
    {
     "data": {
      "text/html": [
       "<div>\n",
       "<style scoped>\n",
       "    .dataframe tbody tr th:only-of-type {\n",
       "        vertical-align: middle;\n",
       "    }\n",
       "\n",
       "    .dataframe tbody tr th {\n",
       "        vertical-align: top;\n",
       "    }\n",
       "\n",
       "    .dataframe thead th {\n",
       "        text-align: right;\n",
       "    }\n",
       "</style>\n",
       "<table border=\"1\" class=\"dataframe\">\n",
       "  <thead>\n",
       "    <tr style=\"text-align: right;\">\n",
       "      <th></th>\n",
       "      <th>age</th>\n",
       "      <th>salary</th>\n",
       "    </tr>\n",
       "  </thead>\n",
       "  <tbody>\n",
       "    <tr>\n",
       "      <th>0</th>\n",
       "      <td>18</td>\n",
       "      <td>2</td>\n",
       "    </tr>\n",
       "    <tr>\n",
       "      <th>1</th>\n",
       "      <td>20</td>\n",
       "      <td>3</td>\n",
       "    </tr>\n",
       "    <tr>\n",
       "      <th>2</th>\n",
       "      <td>25</td>\n",
       "      <td>4</td>\n",
       "    </tr>\n",
       "    <tr>\n",
       "      <th>3</th>\n",
       "      <td>28</td>\n",
       "      <td>6</td>\n",
       "    </tr>\n",
       "    <tr>\n",
       "      <th>4</th>\n",
       "      <td>30</td>\n",
       "      <td>7</td>\n",
       "    </tr>\n",
       "    <tr>\n",
       "      <th>5</th>\n",
       "      <td>35</td>\n",
       "      <td>8</td>\n",
       "    </tr>\n",
       "    <tr>\n",
       "      <th>6</th>\n",
       "      <td>40</td>\n",
       "      <td>9</td>\n",
       "    </tr>\n",
       "    <tr>\n",
       "      <th>7</th>\n",
       "      <td>45</td>\n",
       "      <td>10</td>\n",
       "    </tr>\n",
       "  </tbody>\n",
       "</table>\n",
       "</div>"
      ],
      "text/plain": [
       "   age  salary\n",
       "0   18       2\n",
       "1   20       3\n",
       "2   25       4\n",
       "3   28       6\n",
       "4   30       7\n",
       "5   35       8\n",
       "6   40       9\n",
       "7   45      10"
      ]
     },
     "execution_count": 34,
     "metadata": {},
     "output_type": "execute_result"
    }
   ],
   "source": [
    "# like we have to variable \n",
    "#  suppose x is age \n",
    "x=[18,20,25,28,30,35,40,45]\n",
    "# suppose y is salary in lac\n",
    "y=[2,3,4,6,7,8,9,10]\n",
    "\n",
    "df = pd.DataFrame({\"age\":x,\"salary\":y})\n",
    "df"
   ]
  },
  {
   "cell_type": "code",
   "execution_count": 36,
   "id": "31085137",
   "metadata": {},
   "outputs": [
    {
     "data": {
      "text/html": [
       "<div>\n",
       "<style scoped>\n",
       "    .dataframe tbody tr th:only-of-type {\n",
       "        vertical-align: middle;\n",
       "    }\n",
       "\n",
       "    .dataframe tbody tr th {\n",
       "        vertical-align: top;\n",
       "    }\n",
       "\n",
       "    .dataframe thead th {\n",
       "        text-align: right;\n",
       "    }\n",
       "</style>\n",
       "<table border=\"1\" class=\"dataframe\">\n",
       "  <thead>\n",
       "    <tr style=\"text-align: right;\">\n",
       "      <th></th>\n",
       "      <th>age</th>\n",
       "      <th>salary</th>\n",
       "    </tr>\n",
       "  </thead>\n",
       "  <tbody>\n",
       "    <tr>\n",
       "      <th>age</th>\n",
       "      <td>88.982143</td>\n",
       "      <td>26.839286</td>\n",
       "    </tr>\n",
       "    <tr>\n",
       "      <th>salary</th>\n",
       "      <td>26.839286</td>\n",
       "      <td>8.410714</td>\n",
       "    </tr>\n",
       "  </tbody>\n",
       "</table>\n",
       "</div>"
      ],
      "text/plain": [
       "              age     salary\n",
       "age     88.982143  26.839286\n",
       "salary  26.839286   8.410714"
      ]
     },
     "execution_count": 36,
     "metadata": {},
     "output_type": "execute_result"
    }
   ],
   "source": [
    "df.cov()"
   ]
  },
  {
   "cell_type": "code",
   "execution_count": 37,
   "id": "a1107cd5",
   "metadata": {
    "scrolled": true
   },
   "outputs": [
    {
     "data": {
      "text/html": [
       "<div>\n",
       "<style scoped>\n",
       "    .dataframe tbody tr th:only-of-type {\n",
       "        vertical-align: middle;\n",
       "    }\n",
       "\n",
       "    .dataframe tbody tr th {\n",
       "        vertical-align: top;\n",
       "    }\n",
       "\n",
       "    .dataframe thead th {\n",
       "        text-align: right;\n",
       "    }\n",
       "</style>\n",
       "<table border=\"1\" class=\"dataframe\">\n",
       "  <thead>\n",
       "    <tr style=\"text-align: right;\">\n",
       "      <th></th>\n",
       "      <th>age</th>\n",
       "      <th>salary</th>\n",
       "    </tr>\n",
       "  </thead>\n",
       "  <tbody>\n",
       "    <tr>\n",
       "      <th>age</th>\n",
       "      <td>1.000000</td>\n",
       "      <td>0.981077</td>\n",
       "    </tr>\n",
       "    <tr>\n",
       "      <th>salary</th>\n",
       "      <td>0.981077</td>\n",
       "      <td>1.000000</td>\n",
       "    </tr>\n",
       "  </tbody>\n",
       "</table>\n",
       "</div>"
      ],
      "text/plain": [
       "             age    salary\n",
       "age     1.000000  0.981077\n",
       "salary  0.981077  1.000000"
      ]
     },
     "execution_count": 37,
     "metadata": {},
     "output_type": "execute_result"
    }
   ],
   "source": [
    "df.corr(method=\"pearson\")"
   ]
  },
  {
   "cell_type": "code",
   "execution_count": 40,
   "id": "cabd6db4",
   "metadata": {},
   "outputs": [
    {
     "data": {
      "text/html": [
       "<div>\n",
       "<style scoped>\n",
       "    .dataframe tbody tr th:only-of-type {\n",
       "        vertical-align: middle;\n",
       "    }\n",
       "\n",
       "    .dataframe tbody tr th {\n",
       "        vertical-align: top;\n",
       "    }\n",
       "\n",
       "    .dataframe thead th {\n",
       "        text-align: right;\n",
       "    }\n",
       "</style>\n",
       "<table border=\"1\" class=\"dataframe\">\n",
       "  <thead>\n",
       "    <tr style=\"text-align: right;\">\n",
       "      <th></th>\n",
       "      <th>age</th>\n",
       "      <th>salary</th>\n",
       "    </tr>\n",
       "  </thead>\n",
       "  <tbody>\n",
       "    <tr>\n",
       "      <th>age</th>\n",
       "      <td>1.0</td>\n",
       "      <td>1.0</td>\n",
       "    </tr>\n",
       "    <tr>\n",
       "      <th>salary</th>\n",
       "      <td>1.0</td>\n",
       "      <td>1.0</td>\n",
       "    </tr>\n",
       "  </tbody>\n",
       "</table>\n",
       "</div>"
      ],
      "text/plain": [
       "        age  salary\n",
       "age     1.0     1.0\n",
       "salary  1.0     1.0"
      ]
     },
     "execution_count": 40,
     "metadata": {},
     "output_type": "execute_result"
    }
   ],
   "source": [
    "df.corr(method=\"spearman\")"
   ]
  },
  {
   "cell_type": "code",
   "execution_count": null,
   "id": "5b3879eb",
   "metadata": {},
   "outputs": [],
   "source": []
  },
  {
   "cell_type": "code",
   "execution_count": null,
   "id": "00b74ade",
   "metadata": {},
   "outputs": [],
   "source": [
    "Q11. What is the formula for calculating the sample mean? Provide an example calculation for a\n",
    "dataset."
   ]
  },
  {
   "cell_type": "code",
   "execution_count": null,
   "id": "1c3167dd",
   "metadata": {},
   "outputs": [],
   "source": []
  },
  {
   "cell_type": "markdown",
   "id": "3650448c",
   "metadata": {},
   "source": [
    "_\n",
    "x = (0 to n sum(xi))/n\n",
    "\n",
    "<!-- n is a total sample number -->"
   ]
  },
  {
   "cell_type": "code",
   "execution_count": 27,
   "id": "02f6830f",
   "metadata": {},
   "outputs": [
    {
     "data": {
      "text/plain": [
       "4.5"
      ]
     },
     "execution_count": 27,
     "metadata": {},
     "output_type": "execute_result"
    }
   ],
   "source": [
    "data = [1,2,3,4,5,6,7,8]\n",
    "\n",
    "meann = sum(data)/len(data)\n",
    "meann"
   ]
  },
  {
   "cell_type": "code",
   "execution_count": null,
   "id": "54a0070a",
   "metadata": {},
   "outputs": [],
   "source": [
    "Q12. For a normal distribution data what is the relationship between its measure of central tendency?"
   ]
  },
  {
   "cell_type": "code",
   "execution_count": null,
   "id": "ba0320c5",
   "metadata": {},
   "outputs": [],
   "source": [
    "for normal distribution  : mean=median=mode"
   ]
  },
  {
   "cell_type": "code",
   "execution_count": null,
   "id": "42cbd779",
   "metadata": {},
   "outputs": [],
   "source": [
    "Q13. How is covariance different from correlation?"
   ]
  },
  {
   "cell_type": "code",
   "execution_count": null,
   "id": "69f361e8",
   "metadata": {},
   "outputs": [],
   "source": [
    "covariance say how two variable are different. covariance have value between +infi to -infi\n",
    "here if the value is positive means both variable are positively related\n",
    "else we can say two variable is not related \n",
    "in covariance we can not say how closly they are related. means if we have 100 and 10 so on the basis of value we can not say \n",
    "100 value variable are more related then 10 values variable\n",
    "\n",
    "correlation says how two variable are related.it value is alwasy between -1 to 1.\n",
    "here we can say if the value is more towords to 1 then they are more related.\n",
    "if the value is more towords to -1 we can say they are more not related to each other.\n",
    "\n",
    "both technique are used for to cheack two variable is related or not. if we change in one variable then how it affect to \n",
    "other variable."
   ]
  },
  {
   "cell_type": "code",
   "execution_count": null,
   "id": "db9fae2e",
   "metadata": {},
   "outputs": [],
   "source": [
    "Q14. How do outliers affect measures of central tendency and dispersion? Provide an example"
   ]
  },
  {
   "cell_type": "code",
   "execution_count": 55,
   "id": "4a4631f2",
   "metadata": {},
   "outputs": [],
   "source": [
    "# ex\n",
    "\n",
    "# 100 is outliers\n",
    "\n",
    "data = [1,2,3,4,5,6,100]\n",
    "m=np.mean(data)"
   ]
  },
  {
   "cell_type": "code",
   "execution_count": 56,
   "id": "46868f83",
   "metadata": {},
   "outputs": [],
   "source": [
    "o=np.median(data)"
   ]
  },
  {
   "cell_type": "code",
   "execution_count": 57,
   "id": "5cf16b1f",
   "metadata": {},
   "outputs": [
    {
     "data": {
      "text/plain": [
       "1142.7755102040817"
      ]
     },
     "execution_count": 57,
     "metadata": {},
     "output_type": "execute_result"
    }
   ],
   "source": [
    "np.var(data)"
   ]
  },
  {
   "cell_type": "code",
   "execution_count": 58,
   "id": "5afdf562",
   "metadata": {},
   "outputs": [
    {
     "data": {
      "text/plain": [
       "33.804962804358794"
      ]
     },
     "execution_count": 58,
     "metadata": {},
     "output_type": "execute_result"
    }
   ],
   "source": [
    "np.std(data)"
   ]
  },
  {
   "cell_type": "code",
   "execution_count": 59,
   "id": "6534c9ef",
   "metadata": {},
   "outputs": [
    {
     "data": {
      "text/plain": [
       "17.285714285714285"
      ]
     },
     "execution_count": 59,
     "metadata": {},
     "output_type": "execute_result"
    }
   ],
   "source": [
    "m"
   ]
  },
  {
   "cell_type": "code",
   "execution_count": 60,
   "id": "75f90122",
   "metadata": {},
   "outputs": [
    {
     "data": {
      "text/plain": [
       "4.0"
      ]
     },
     "execution_count": 60,
     "metadata": {},
     "output_type": "execute_result"
    }
   ],
   "source": [
    "o"
   ]
  },
  {
   "cell_type": "code",
   "execution_count": 61,
   "id": "8c4d0bbb",
   "metadata": {},
   "outputs": [
    {
     "data": {
      "text/plain": [
       "13.285714285714285"
      ]
     },
     "execution_count": 61,
     "metadata": {},
     "output_type": "execute_result"
    }
   ],
   "source": [
    "m-o"
   ]
  },
  {
   "cell_type": "code",
   "execution_count": 62,
   "id": "99761891",
   "metadata": {},
   "outputs": [],
   "source": [
    "data = [1,2,3,4,5,6,2]\n",
    "m=np.mean(data)"
   ]
  },
  {
   "cell_type": "code",
   "execution_count": 63,
   "id": "0a98ad69",
   "metadata": {},
   "outputs": [],
   "source": [
    "o=np.median(data)"
   ]
  },
  {
   "cell_type": "code",
   "execution_count": 64,
   "id": "5ed989d4",
   "metadata": {},
   "outputs": [
    {
     "data": {
      "text/plain": [
       "2.775510204081633"
      ]
     },
     "execution_count": 64,
     "metadata": {},
     "output_type": "execute_result"
    }
   ],
   "source": [
    "np.var(data)"
   ]
  },
  {
   "cell_type": "code",
   "execution_count": 65,
   "id": "7599dbef",
   "metadata": {},
   "outputs": [
    {
     "data": {
      "text/plain": [
       "1.665986255670086"
      ]
     },
     "execution_count": 65,
     "metadata": {},
     "output_type": "execute_result"
    }
   ],
   "source": [
    "np.std(data)"
   ]
  },
  {
   "cell_type": "code",
   "execution_count": 66,
   "id": "e5c1ffbe",
   "metadata": {},
   "outputs": [
    {
     "data": {
      "text/plain": [
       "3.2857142857142856"
      ]
     },
     "execution_count": 66,
     "metadata": {},
     "output_type": "execute_result"
    }
   ],
   "source": [
    "m"
   ]
  },
  {
   "cell_type": "code",
   "execution_count": 67,
   "id": "5bee5eeb",
   "metadata": {},
   "outputs": [
    {
     "data": {
      "text/plain": [
       "3.0"
      ]
     },
     "execution_count": 67,
     "metadata": {},
     "output_type": "execute_result"
    }
   ],
   "source": [
    "o"
   ]
  },
  {
   "cell_type": "code",
   "execution_count": 52,
   "id": "7980d1de",
   "metadata": {},
   "outputs": [],
   "source": [
    "# so we can see that how mean,variance,and standard deviation is change and slitly median is changed.\n",
    "# we can also see outliers most affect to the mean and less affect to the median."
   ]
  },
  {
   "cell_type": "code",
   "execution_count": 68,
   "id": "a8432aae",
   "metadata": {},
   "outputs": [],
   "source": [
    "# so it is requered to find out the outliers and handle those outliers"
   ]
  }
 ],
 "metadata": {
  "kernelspec": {
   "display_name": "Python 3 (ipykernel)",
   "language": "python",
   "name": "python3"
  },
  "language_info": {
   "codemirror_mode": {
    "name": "ipython",
    "version": 3
   },
   "file_extension": ".py",
   "mimetype": "text/x-python",
   "name": "python",
   "nbconvert_exporter": "python",
   "pygments_lexer": "ipython3",
   "version": "3.9.7"
  }
 },
 "nbformat": 4,
 "nbformat_minor": 5
}
