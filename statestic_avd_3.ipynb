{
 "cells": [
  {
   "cell_type": "code",
   "execution_count": null,
   "id": "8aeba555",
   "metadata": {},
   "outputs": [],
   "source": [
    "Q1. What is the Probability density function?"
   ]
  },
  {
   "cell_type": "code",
   "execution_count": null,
   "id": "70051ace",
   "metadata": {},
   "outputs": [],
   "source": [
    "The Probability Density Function(PDF) defines the probability function representing the density of a continuous random variable\n",
    "lying between a specific range of values.\n",
    "\n",
    "it is used when we have a continuous random variable.\n",
    "it graph is always continuous.\n",
    "they have infinity outcome."
   ]
  },
  {
   "cell_type": "code",
   "execution_count": null,
   "id": "3aba905d",
   "metadata": {},
   "outputs": [],
   "source": [
    "Q2. What are the types of Probability distribution?"
   ]
  },
  {
   "cell_type": "code",
   "execution_count": null,
   "id": "faf867d9",
   "metadata": {},
   "outputs": [],
   "source": [
    "there are the two type of probability distribution \n",
    "1.continuous probability distribution :\n",
    "    -they have infinity outcome.\n",
    "    -The cumulative probability distribution is also known as a continuous probability distribution. \n",
    "    In this distribution, the set of possible outcomes can take on values in a continuous range.\n",
    "    Ex-Height of the population    \n",
    "    \n",
    "2.discrite probability distribution :\n",
    "    -here we get finite amount of outcome.\n",
    "    -A distribution is called a discrete probability distribution, where the set of outcomes are discrete in nature.\n",
    "    Ex-rolling a dice"
   ]
  },
  {
   "cell_type": "code",
   "execution_count": null,
   "id": "99c9b95a",
   "metadata": {},
   "outputs": [],
   "source": [
    "Q3. Write a Python function to calculate the probability density function of a normal distribution with \n",
    "given mean and standard deviation at a given point."
   ]
  },
  {
   "cell_type": "code",
   "execution_count": 35,
   "id": "72baa611",
   "metadata": {},
   "outputs": [],
   "source": [
    "import numpy as np\n",
    "import scipy.stats as stat\n",
    "import math"
   ]
  },
  {
   "cell_type": "code",
   "execution_count": 12,
   "id": "eb282735",
   "metadata": {},
   "outputs": [
    {
     "name": "stdout",
     "output_type": "stream",
     "text": [
      "pdf at the given point is  1.0026513098524001\n"
     ]
    }
   ],
   "source": [
    "\n",
    "def normal_distribution(mean,std,x):\n",
    "    \n",
    "    first_part = 1/std*(np.sqrt(2*np.pi))\n",
    "    term = ((x-mean)/std)**2\n",
    "    second_part = np.exp(-1/2*term)\n",
    "    \n",
    "#   second_part = np.exp(-1*((x-mean)**2/2*(std)**2))\n",
    "\n",
    "    final_ans = first_part*second_part\n",
    "    \n",
    "    return final_ans\n",
    "    \n",
    "#data we aasume mean, std, and point x.\n",
    "x= 2.5\n",
    "mean = 2.5\n",
    "std = 2.5\n",
    "\n",
    "result = normal_distribution(x,mean,std)\n",
    "print(\"pdf at the given point is \",result)"
   ]
  },
  {
   "cell_type": "code",
   "execution_count": null,
   "id": "c98e6e06",
   "metadata": {},
   "outputs": [],
   "source": [
    "Q4. What are the properties of Binomial distribution? Give two examples of events where binomial \n",
    "distribution can be applied."
   ]
  },
  {
   "cell_type": "code",
   "execution_count": null,
   "id": "0619efbd",
   "metadata": {},
   "outputs": [],
   "source": [
    "properties of binomial distribution :\n",
    "\n",
    "    There are two possible outcomes: true or false, success or failure, yes or no.\n",
    "    There is ‘n’ number of independent trials or a fixed number of n times repeated trials.\n",
    "    The probability of success or failure remains the same for each trial.\n",
    "    Only the number of success is calculated out of n independent trials.\n",
    "    Every trial is an independent trial, which means the outcome of one trial does not affect the outcome of another trial.\n",
    "    \n",
    "Criteria for the binomial distribution: \n",
    "\n",
    "    The number of trials should be fixed.\n",
    "    Each trial should be independent.\n",
    "    The probability of success is exactly the same from one trial to the other trial.\n",
    "    \n",
    "Example :\n",
    "    1. tossing a coin 10 times what is a probability of getting 6 time head.here we can use binomial distribution \n",
    "    each time getting a head probability is 1/2. and it is not change.\n",
    "    \n",
    "    2. 20 day in rainy season what is a probability that 16 day out of 20 is to rain.\n",
    "    \n",
    "    probability of to rain is 1/2  -- rain or not rain \n",
    "    so we can use binomial distribution.\n",
    "    \n"
   ]
  },
  {
   "cell_type": "code",
   "execution_count": null,
   "id": "410255b0",
   "metadata": {},
   "outputs": [],
   "source": [
    "Q5. Generate a random sample of size 1000 from a binomial distribution with probability of success 0.4 \n",
    "and plot a histogram of the results using matplotlib."
   ]
  },
  {
   "cell_type": "code",
   "execution_count": 39,
   "id": "0708a54b",
   "metadata": {},
   "outputs": [],
   "source": [
    "sample = np.random.binomial(1,0.4,1000)"
   ]
  },
  {
   "cell_type": "code",
   "execution_count": 50,
   "id": "71226fd5",
   "metadata": {},
   "outputs": [
    {
     "data": {
      "image/png": "[encoded data removed]",
      "text/plain": [
       "<Figure size 640x480 with 1 Axes>"
      ]
     },
     "metadata": {},
     "output_type": "display_data"
    }
   ],
   "source": [
    "import matplotlib.pyplot as plt\n",
    "plt.hist(sample)\n",
    "plt.xlabel(\"X -Axis\")\n",
    "plt.ylabel(\"Y -Axis\")\n",
    "plt.xticks([0,1],[\"fail\", \"success\"])\n",
    "plt.show()"
   ]
  },
  {
   "cell_type": "code",
   "execution_count": null,
   "id": "9d450d94",
   "metadata": {},
   "outputs": [],
   "source": [
    "Q6. Write a Python function to calculate the cumulative distribution function of a Poisson distribution \n",
    "with given mean at a given point."
   ]
  },
  {
   "cell_type": "code",
   "execution_count": 71,
   "id": "301812dd",
   "metadata": {},
   "outputs": [
    {
     "name": "stdout",
     "output_type": "stream",
     "text": [
      "probability at this point : 0.8747948992099447\n"
     ]
    }
   ],
   "source": [
    "#  for cummutative \n",
    "\n",
    "def possion(lam,point):\n",
    "    \n",
    "    if point<0:\n",
    "        return False\n",
    "    else :\n",
    "        ans = 0\n",
    "        for i in range(0,point+1):\n",
    "            ans = ans + (((lam**i)*math.exp(-lam))/math.factorial(i))\n",
    "        \n",
    "        return ans \n",
    "# driver code \n",
    "lam = 0.61\n",
    "point = 1\n",
    "result = possion(lam,point)\n",
    "print(\"probability at this point :\",result)"
   ]
  },
  {
   "cell_type": "code",
   "execution_count": 75,
   "id": "e8ec2ba1",
   "metadata": {},
   "outputs": [
    {
     "name": "stdout",
     "output_type": "stream",
     "text": [
      "probability at this point : 0.10109042919131069\n"
     ]
    }
   ],
   "source": [
    "#  for pmf \n",
    "\n",
    "def possion(lam,point):\n",
    "    \n",
    "    if point<0:\n",
    "        return False\n",
    "    else :\n",
    "        ans =(((lam**point)*math.exp(-lam))/math.factorial(point))\n",
    "        \n",
    "        return ans \n",
    "# driver code \n",
    "lam = 0.61\n",
    "point = 2\n",
    "result = possion(lam,point)\n",
    "print(\"probability at this point :\",result)"
   ]
  },
  {
   "cell_type": "code",
   "execution_count": null,
   "id": "6b67342e",
   "metadata": {},
   "outputs": [],
   "source": [
    "Q7. How Binomial distribution different from Poisson distribution?"
   ]
  },
  {
   "cell_type": "code",
   "execution_count": null,
   "id": "85394bbb",
   "metadata": {},
   "outputs": [],
   "source": [
    "binomial is used when each event have same probability and binary probability.\n",
    "experiment performed for n time.\n",
    "\n",
    "both are used for discrite random variable.\n",
    "\n",
    "poisson distribution is used when we have some fixed time interval."
   ]
  },
  {
   "cell_type": "code",
   "execution_count": null,
   "id": "5e681fea",
   "metadata": {},
   "outputs": [],
   "source": [
    "Q8. Generate a random sample of size 1000 from a Poisson distribution with mean 5 and calculate the \n",
    "sample mean and variance."
   ]
  },
  {
   "cell_type": "code",
   "execution_count": 55,
   "id": "0291eb7b",
   "metadata": {},
   "outputs": [
    {
     "data": {
      "text/plain": [
       "array([ 3,  9,  3,  4,  8,  3, 10,  8,  7,  4,  3,  2,  4,  8,  4,  5,  6,\n",
       "        7, 11,  6,  3,  7,  8,  3,  4,  2,  4,  4,  1,  1,  5,  3,  2,  3,\n",
       "        6,  2,  5,  2,  4,  5,  2,  4,  1,  6,  5,  6,  6,  9,  8,  1,  5,\n",
       "       10,  2,  3,  3,  1,  2,  6,  6,  7,  8,  4,  6,  2, 10,  5,  7,  3,\n",
       "        3,  3,  2,  3,  5,  5,  6,  4,  3,  1,  5,  2,  8,  6,  4,  4,  4,\n",
       "        5,  8,  3,  3,  8,  6,  6,  2,  7,  5,  3,  2,  1,  9,  8,  5,  6,\n",
       "        4,  1,  4,  6,  4,  8,  4,  1,  5,  2,  6,  3,  4,  6,  1,  7,  1,\n",
       "        2,  4,  6,  6,  5,  5, 12,  5,  6,  7,  7,  4,  4,  5,  4,  5,  2,\n",
       "        3,  6,  1,  4,  5,  3,  5,  3, 10,  3,  5,  0,  4,  3,  3,  5,  1,\n",
       "        8,  6,  5,  5,  3,  7,  9,  2,  7,  3,  5,  3,  2,  5,  2,  4,  4,\n",
       "        7, 11,  4, 12,  5,  6,  2,  2,  5,  3,  7,  7,  3,  4,  3,  3,  8,\n",
       "        8,  3,  4,  7,  4,  7,  7,  6,  7,  4,  3,  5,  2,  4,  6,  5,  4,\n",
       "        7,  3,  6,  6,  1,  7,  8,  4,  2,  8,  5,  3,  7,  8,  3,  1,  5,\n",
       "        4, 12,  6,  2,  7,  6,  7,  4,  1,  8,  4,  8, 10,  2,  6,  3,  3,\n",
       "        6,  9,  8,  5,  9,  0,  8, 10,  1,  4,  2,  5,  6,  4,  4,  4,  8,\n",
       "        9,  7,  6,  0,  4,  6,  4,  2,  9,  7,  5,  4,  7, 14,  8,  2,  3,\n",
       "        5,  6,  5,  2,  3,  1,  6,  6,  4,  4,  4,  5,  3,  6,  2,  3,  5,\n",
       "        6,  4,  0, 10,  3,  4,  7,  2,  5,  7,  4,  5,  5,  2,  5,  6,  7,\n",
       "        4,  1,  7,  8,  5,  4,  4,  2,  5,  5,  5,  6,  2,  4,  6,  2,  7,\n",
       "        7, 10,  4,  6,  3,  5,  7,  4,  5,  6,  3,  4,  3,  3,  6,  4,  5,\n",
       "        4,  3,  4,  8,  3,  5,  4,  3,  4,  4,  6,  3,  3,  3,  5,  6,  5,\n",
       "        2,  5,  4,  7,  5,  7,  4,  3,  4,  3,  7,  4,  3,  3,  6,  2, 11,\n",
       "        6,  3,  2,  4,  3,  9,  1,  5,  3,  5,  5,  2,  7,  5,  8,  6,  3,\n",
       "        5,  6, 10,  3,  7,  7, 10,  4,  1,  5,  3,  5,  6,  4,  1,  3,  7,\n",
       "        9,  2,  9,  4,  3,  4,  8,  5,  3,  6,  7,  7,  5,  3,  3,  7,  3,\n",
       "        6,  4,  7,  5,  3,  5,  7,  1,  6,  4,  5,  3,  5,  4,  3,  5,  4,\n",
       "        8,  7,  7,  8,  5,  6,  5,  7,  8,  6,  7,  6,  5,  7,  7,  7,  4,\n",
       "        5,  4,  6,  4,  7,  5,  5,  4,  5,  7,  5,  2,  3,  6,  7,  8,  2,\n",
       "        6,  4,  2,  4,  3,  3,  9,  6,  4,  8, 12,  1,  5,  4,  2,  8,  4,\n",
       "        6,  4,  3,  1,  5,  3,  2,  5,  5,  2,  6,  3,  2,  8,  1,  4,  8,\n",
       "        3,  1,  3,  6,  4,  2, 10,  4,  7,  5,  4,  2,  3,  3,  7,  6,  4,\n",
       "        4,  8,  4,  5,  3,  3,  4,  6,  9,  6,  4,  4,  5,  4,  6,  5,  4,\n",
       "        3,  8,  4,  4,  6,  6,  1,  4,  2,  8,  3,  6,  9,  4,  6,  4,  4,\n",
       "        7,  4,  4,  2,  5,  4,  2, 12,  5,  5,  4,  3,  5,  2,  7,  6,  4,\n",
       "        6,  9,  9,  5,  5,  5,  6,  4,  5,  3,  6,  4,  4,  8,  2,  4,  5,\n",
       "        1,  5,  1,  6,  2,  6,  7,  8,  4,  4,  8,  7,  2,  5,  2,  9,  6,\n",
       "        5,  6,  4, 11,  7,  4,  8,  3,  6,  5,  3,  7,  1,  5,  7,  1,  4,\n",
       "        2,  5,  5,  9,  5,  7,  1,  4,  6,  9,  8,  5,  3,  9,  0,  1,  9,\n",
       "        8,  6,  5,  7, 10,  1,  6,  6,  3,  2,  7,  3,  1,  2,  3, 10,  5,\n",
       "        5,  4, 10,  4,  4,  7,  2,  4,  5,  3, 10,  7,  2,  6,  3,  6,  3,\n",
       "        6,  9,  4,  4,  7,  7,  5,  0,  0,  6,  4,  5,  8,  6,  8,  3,  3,\n",
       "        4,  7,  7,  4,  5,  3,  0,  6,  5,  4,  8,  3,  7,  2,  4,  3,  3,\n",
       "        4,  6,  3,  5,  3,  4, 11,  9,  6,  5,  2,  6,  5,  8,  4,  3,  9,\n",
       "        4,  4,  5,  5,  5,  8,  3,  5,  7,  4,  3,  1,  4,  3,  5,  4,  6,\n",
       "        5,  6,  6,  4,  3,  2,  3,  8,  3,  6,  7, 12,  4,  3,  6,  4,  3,\n",
       "        6,  5, 10,  8,  5,  5,  4,  5,  3,  2,  8,  4,  7,  9,  7,  4,  0,\n",
       "        6,  6,  4,  5,  6,  5,  6,  7,  3,  5,  3,  1,  8,  5,  1,  4,  6,\n",
       "        8,  5,  2,  0,  9,  8,  5,  7,  6,  6,  4,  6,  4,  5,  6,  6,  9,\n",
       "        6,  2,  4,  4,  3,  7,  8,  7,  4,  5,  9,  4, 11,  4,  2,  9,  6,\n",
       "        3,  7,  3,  6,  9,  4,  2,  6,  2,  5,  3,  1,  5,  7,  7,  3,  4,\n",
       "        7,  4,  4,  3,  3,  6,  4,  1,  6,  4,  7,  4,  4,  2,  3,  7,  4,\n",
       "        6,  3,  5,  5,  5,  7,  4,  6,  9,  5,  2,  3,  4,  6,  6,  1,  3,\n",
       "        5,  6, 10, 15, 12,  5,  6,  4,  4,  5,  7,  7,  6,  5,  3,  6,  5,\n",
       "        7,  6,  4,  4,  9,  6,  5,  8,  3,  2,  6,  2,  7,  5,  1,  8,  7,\n",
       "        8,  8,  2,  6,  8,  4,  4,  6,  5,  7,  7,  3,  3,  4,  5,  9,  9,\n",
       "        3,  4,  7, 11,  3,  7,  6,  2,  5,  2,  8,  6,  1,  2,  6,  3,  5,\n",
       "        5,  7,  2,  2,  4,  7,  7,  3,  5,  3,  1,  6,  2, 10,  3,  5,  9,\n",
       "        4, 10,  4,  6,  4,  7,  7,  4,  5,  5,  3,  5,  7,  5,  7,  6,  2,\n",
       "        4,  4,  9,  7,  5, 10,  4,  5,  3,  3,  6, 11,  5,  2])"
      ]
     },
     "execution_count": 55,
     "metadata": {},
     "output_type": "execute_result"
    }
   ],
   "source": [
    "sample = np.random.poisson(5,1000)\n",
    "sample"
   ]
  },
  {
   "cell_type": "code",
   "execution_count": 54,
   "id": "5c6b62c8",
   "metadata": {},
   "outputs": [
    {
     "name": "stdout",
     "output_type": "stream",
     "text": [
      "mean : 5\n",
      "variance : 5\n"
     ]
    }
   ],
   "source": [
    "lamb = 5\n",
    "time = 1\n",
    "mean = lamb\n",
    "#  possion distribution mean and variance are same.\n",
    "var = mean \n",
    "\n",
    "print(\"mean :\",mean)\n",
    "print(\"variance :\",var)"
   ]
  },
  {
   "cell_type": "code",
   "execution_count": null,
   "id": "a2108dcd",
   "metadata": {},
   "outputs": [],
   "source": [
    "Q9. How mean and variance are related in Binomial distribution and Poisson distribution?"
   ]
  },
  {
   "cell_type": "code",
   "execution_count": null,
   "id": "a1c33eb3",
   "metadata": {},
   "outputs": [],
   "source": [
    "in binomial distribution :\n",
    "    mean = n*p\n",
    "    variance  =n*p*q\n",
    "    where, n = number of experiment\n",
    "           p = probability of success\n",
    "           q = 1-p (probability of fail)\n",
    "            \n",
    "possion distribution :\n",
    "    mean = lambda\n",
    "    variance = mean \n",
    "    \n",
    "in binomial distribution mean is always greater then variance\n",
    "and in possion distribution mean ans variance are same \n",
    "\n",
    "now, if we see binomial and possion distribution if we have large number of n then pis small so we can say that n*p will be \n",
    "constant. in possion distribution mean = lambda so it is also constant because lambda is not getting to affect what ever \n",
    "situation is. so we can say that lambda = n*p\n",
    "when , n is large number "
   ]
  },
  {
   "cell_type": "code",
   "execution_count": null,
   "id": "9e292e8f",
   "metadata": {},
   "outputs": [],
   "source": [
    "Q10. In normal distribution with respect to mean position, where does the least frequent data appear?"
   ]
  },
  {
   "cell_type": "code",
   "execution_count": null,
   "id": "fd6605f5",
   "metadata": {},
   "outputs": [],
   "source": [
    "normal distribution is a symmetric distribution so most of the frequent data is distributed around the mean.\n",
    "so if we go far from the mean we get less frequent data.\n",
    "\n",
    "if we use the concept of empirical rule so we can say in 3 or after the 3 standered deviation we get more less frequent data."
   ]
  }
 ],
 "metadata": {
  "kernelspec": {
   "display_name": "Python 3 (ipykernel)",
   "language": "python",
   "name": "python3"
  },
  "language_info": {
   "codemirror_mode": {
    "name": "ipython",
    "version": 3
   },
   "file_extension": ".py",
   "mimetype": "text/x-python",
   "name": "python",
   "nbconvert_exporter": "python",
   "pygments_lexer": "ipython3",
   "version": "3.9.7"
  }
 },
 "nbformat": 4,
 "nbformat_minor": 5
}
